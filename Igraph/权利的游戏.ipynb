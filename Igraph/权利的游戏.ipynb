{
 "cells": [
  {
   "cell_type": "code",
   "execution_count": 1,
   "metadata": {
    "collapsed": true
   },
   "outputs": [],
   "source": [
    "# coding:utf-8\n",
    "import csv\n",
    "from igraph import *"
   ]
  },
  {
   "cell_type": "code",
   "execution_count": 3,
   "metadata": {
    "collapsed": true
   },
   "outputs": [
    {
     "data": {
      "text/plain": [
       "[('Aemon', 'Grenn', 5),\n ('Aemon', 'Samwell', 31),\n ('Aerys', 'Jaime', 18),\n ('Aerys', 'Robert', 6),\n ('Aerys', 'Tyrion', 5),\n ('Aerys', 'Tywin', 8),\n ('Alliser', 'Mance', 5),\n ('Amory', 'Oberyn', 5),\n ('Arya', 'Anguy', 11),\n ('Arya', 'Beric', 23),\n ('Arya', 'Bran', 9),\n ('Arya', 'Brynden', 6),\n ('Arya', 'Cersei', 5),\n ('Arya', 'Gendry', 43),\n ('Arya', 'Gregor', 7),\n ('Arya', 'Jaime', 11),\n ('Arya', 'Joffrey', 6),\n ('Arya', 'Jon', 7),\n ('Arya', 'Rickon', 8),\n ('Arya', 'Robert', 4),\n ('Arya', 'Roose', 5),\n ('Arya', 'Sandor', 46),\n ('Arya', 'Thoros', 18),\n ('Arya', 'Tyrion', 5),\n ('Balon', 'Loras', 4),\n ('Belwas', 'Barristan', 18),\n ('Belwas', 'Illyrio', 10),\n ('Beric', 'Anguy', 4),\n ('Beric', 'Gendry', 4),\n ('Beric', 'Thoros', 21),\n ('Bran', 'Hodor', 96),\n ('Bran', 'Jojen', 46),\n ('Bran', 'Jon', 12),\n ('Bran', 'Luwin', 4),\n ('Bran', 'Meera', 54),\n ('Bran', 'Nan', 14),\n ('Bran', 'Rickon', 35),\n ('Bran', 'Samwell', 11),\n ('Bran', 'Theon', 11),\n ('Brienne', 'Loras', 7),\n ('Bronn', 'Gregor', 5),\n ('Bronn', 'Podrick', 19),\n ('Brynden', 'Lothar', 4),\n ('Brynden', 'Walder', 5),\n ('Catelyn', 'Bran', 4),\n ('Catelyn', 'Brienne', 7),\n ('Catelyn', 'Brynden', 8),\n ('Catelyn', 'Cersei', 4),\n ('Catelyn', 'Edmure', 16),\n ('Catelyn', 'Hoster', 9),\n ('Catelyn', 'Jaime', 19),\n ('Catelyn', 'Jeyne', 10),\n ('Catelyn', 'Lysa', 8),\n ('Catelyn', 'Petyr', 5),\n ('Catelyn', 'Robb', 43),\n ('Catelyn', 'Roose', 4),\n ('Catelyn', 'Roslin', 6),\n ('Catelyn', 'Sansa', 8),\n ('Catelyn', 'Stannis', 4),\n ('Catelyn', 'Tyrion', 5),\n ('Catelyn', 'Walder', 19),\n ('Cersei', 'Brienne', 5),\n ('Cersei', 'Bronn', 4),\n ('Cersei', 'Elia', 4),\n ('Cersei', 'Gregor', 6),\n ('Cersei', 'Ilyn', 7),\n ('Cersei', 'Jaime', 36),\n ('Cersei', 'Joffrey', 23),\n ('Cersei', 'Meryn', 10),\n ('Cersei', 'Pycelle', 4),\n ('Cersei', 'Robert', 16),\n ('Cersei', 'Sandor', 6),\n ('Cersei', 'Shae', 4),\n ('Cersei', 'Tyrion', 46),\n ('Cersei', 'Varys', 4),\n ('Craster', 'Karl', 6),\n ('Daario', 'Drogo', 4),\n ('Daario', 'Irri', 5),\n ('Daenerys', 'Aegon', 8),\n ('Daenerys', 'Barristan', 20),\n ('Daenerys', 'Belwas', 26),\n ('Daenerys', 'Daario', 14),\n ('Daenerys', 'Drogo', 18),\n ('Daenerys', 'Irri', 17),\n ('Daenerys', 'Jorah', 47),\n ('Daenerys', 'Kraznys', 10),\n ('Daenerys', 'Missandei', 26),\n ('Daenerys', 'Rakharo', 7),\n ('Daenerys', 'Rhaegar', 12),\n ('Daenerys', 'Robert', 5),\n ('Daenerys', 'Viserys', 8),\n ('Daenerys', 'Worm', 14),\n ('Davos', 'Cressen', 4),\n ('Davos', 'Salladhor', 16),\n ('Eddard', 'Arya', 18),\n ('Eddard', 'Beric', 8),\n ('Eddard', 'Bran', 15),\n ('Eddard', 'Catelyn', 5),\n ('Eddard', 'Cersei', 6),\n ('Eddard', 'Jaime', 6),\n ('Eddard', 'Jon', 8),\n ('Eddard', 'Rickon', 8),\n ('Eddard', 'Robb', 13),\n ('Eddard', 'Robert', 10),\n ('Eddard', 'Sandor', 5),\n ('Eddard', 'Sansa', 6),\n ('Eddison', 'Grenn', 8),\n ('Edmure', 'Brynden', 7),\n ('Edmure', 'Lothar', 4),\n ('Edmure', 'Roslin', 16),\n ('Edmure', 'Walder', 9),\n ('Gendry', 'Thoros', 7),\n ('Gilly', 'Craster', 17),\n ('Gregor', 'Elia', 9),\n ('Gregor', 'Ilyn', 7),\n ('Gregor', 'Meryn', 7),\n ('Gregor', 'Oberyn', 24),\n ('Gregor', 'Sandor', 12),\n ('Hodor', 'Jojen', 35),\n ('Hodor', 'Meera', 41),\n ('Hoster', 'Edmure', 9),\n ('Irri', 'Drogo', 7),\n ('Jaime', 'Balon', 6),\n ('Jaime', 'Barristan', 4),\n ('Jaime', 'Brienne', 88),\n ('Jaime', 'Edmure', 5),\n ('Jaime', 'Elia', 4),\n ('Jaime', 'Gregor', 6),\n ('Jaime', 'Joffrey', 15),\n ('Jaime', 'Loras', 16),\n ('Jaime', 'Meryn', 11),\n ('Jaime', 'Qyburn', 11),\n ('Jaime', 'Renly', 7),\n ('Jaime', 'Robert', 17),\n ('Jaime', 'Stannis', 5),\n ('Jaime', 'Tommen', 8),\n ('Jaime', 'Tyrion', 31),\n ('Janos', 'Alliser', 9),\n ('Janos', 'Bowen', 5),\n ('Janos', 'Mance', 4),\n ('Joffrey', 'Gregor', 5),\n ('Joffrey', 'Ilyn', 4),\n ('Joffrey', 'Kevan', 8),\n ('Joffrey', 'Loras', 7),\n ('Joffrey', 'Margaery', 28),\n ('Joffrey', 'Meryn', 5),\n ('Joffrey', 'Myrcella', 5),\n ('Joffrey', 'Oberyn', 4),\n ('Joffrey', 'Sandor', 14),\n ('Joffrey', 'Stannis', 10),\n ('Joffrey', 'Tommen', 9),\n ('Joffrey', 'Tyrion', 54),\n ('Jojen', 'Meera', 33),\n ('Jojen', 'Samwell', 11),\n ('Jon', 'Aemon', 30),\n ('Jon', 'Alliser', 15),\n ('Jon', 'Craster', 7),\n ('Jon', 'Dalla', 6),\n ('Jon', 'Eddison', 4),\n ('Jon', 'Gilly', 9),\n ('Jon', 'Grenn', 25),\n ('Jon', 'Janos', 8),\n ('Jon', 'Mance', 69),\n ('Jon', 'Meera', 4),\n ('Jon', 'Melisandre', 7),\n ('Jon', 'Orell', 6),\n ('Jon', 'Qhorin', 31),\n ('Jon', 'Rattleshirt', 20),\n ('Jon', 'Robert', 5),\n ('Jon', 'Samwell', 52),\n ('Jon', 'Stannis', 9),\n ('Jon', 'Styr', 16),\n ('Jon', 'Theon', 8),\n ('Jon', 'Val', 12),\n ('Jon', 'Ygritte', 54),\n ('Jon Arryn', 'Lysa', 5),\n ('Jon Arryn', 'Robert', 6),\n ('Jorah', 'Barristan', 11),\n ('Jorah', 'Belwas', 13),\n ('Jorah', 'Daario', 7),\n ('Jorah', 'Drogo', 6),\n ('Kevan', 'Lancel', 7),\n ('Kevan', 'Varys', 5),\n ('Loras', 'Margaery', 9),\n ('Loras', 'Olenna', 5),\n ('Lothar', 'Roslin', 4),\n ('Luwin', 'Nan', 4),\n ('Lysa', 'Cersei', 4),\n ('Lysa', 'Hoster', 6),\n ('Lysa', 'Marillion', 10),\n ('Lysa', 'Petyr', 29),\n ('Lysa', 'Robert Arryn', 9),\n ('Lysa', 'Tyrion', 5),\n ('Lysa', 'Tywin', 4),\n ('Mance', 'Craster', 11),\n ('Mance', 'Dalla', 8),\n ('Mance', 'Gilly', 7),\n ('Mance', 'Qhorin', 10),\n ('Mance', 'Rattleshirt', 9),\n ('Mance', 'Styr', 7),\n ('Mance', 'Val', 8),\n ('Mance', 'Ygritte', 12),\n ('Meera', 'Samwell', 7),\n ('Melisandre', 'Davos', 30),\n ('Melisandre', 'Samwell', 5),\n ('Meryn', 'Ilyn', 5),\n ('Missandei', 'Irri', 4),\n ('Myrcella', 'Tommen', 5),\n ('Myrcella', 'Tyrion', 4),\n ('Oberyn', 'Ellaria', 6),\n ('Oberyn', 'Mace', 6),\n ('Podrick', 'Margaery', 4),\n ('Rattleshirt', 'Qhorin', 6),\n ('Renly', 'Loras', 8),\n ('Renly', 'Margaery', 7),\n ('Renly', 'Varys', 4),\n ('Rhaegar', 'Barristan', 5),\n ('Rhaegar', 'Elia', 7),\n ('Rhaegar', 'Jorah', 5),\n ('Rhaegar', 'Robert', 6),\n ('Rickard', 'Brynden', 4),\n ('Rickon', 'Theon', 8),\n ('Robb', 'Arya', 15),\n ('Robb', 'Balon', 6),\n ('Robb', 'Bran', 23),\n ('Robb', 'Brienne', 6),\n ('Robb', 'Brynden', 17),\n ('Robb', 'Edmure', 32),\n ('Robb', 'Hodor', 5),\n ('Robb', 'Jaime', 15),\n ('Robb', 'Jeyne', 18),\n ('Robb', 'Joffrey', 10),\n ('Robb', 'Jon', 14),\n ('Robb', 'Lothar', 10),\n ('Robb', 'Petyr', 5),\n ('Robb', 'Ramsay', 4),\n ('Robb', 'Rickard', 7),\n ('Robb', 'Rickon', 15),\n ('Robb', 'Roose', 4),\n ('Robb', 'Sansa', 15),\n ('Robb', 'Stannis', 4),\n ('Robb', 'Theon', 11),\n ('Robb', 'Tyrion', 12),\n ('Robb', 'Tywin', 12),\n ('Robb', 'Walder', 26),\n ('Robert', 'Aemon', 4),\n ('Robert', 'Barristan', 5),\n ('Robert', 'Renly', 4),\n ('Robert', 'Stannis', 5),\n ('Robert', 'Thoros', 4),\n ('Robert Arryn', 'Marillion', 4),\n ('Roose', 'Brienne', 4),\n ('Samwell', 'Bowen', 6),\n ('Samwell', 'Craster', 34),\n ('Samwell', 'Eddison', 12),\n ('Samwell', 'Gilly', 36),\n ('Samwell', 'Grenn', 43),\n ('Samwell', 'Janos', 6),\n ('Samwell', 'Mance', 10),\n ('Samwell', 'Qhorin', 5),\n ('Sandor', 'Beric', 15),\n ('Sandor', 'Gendry', 5),\n ('Sandor', 'Ilyn', 4),\n ('Sandor', 'Meryn', 4),\n ('Sandor', 'Robert', 6),\n ('Sandor', 'Thoros', 10),\n ('Sansa', 'Arya', 22),\n ('Sansa', 'Bran', 10),\n ('Sansa', 'Brienne', 5),\n ('Sansa', 'Cersei', 16),\n ('Sansa', 'Jaime', 10),\n ('Sansa', 'Joffrey', 35),\n ('Sansa', 'Jon', 4),\n ('Sansa', 'Kevan', 5),\n ('Sansa', 'Loras', 14),\n ('Sansa', 'Lysa', 28),\n ('Sansa', 'Margaery', 36),\n ('Sansa', 'Marillion', 9),\n ('Sansa', 'Myrcella', 4),\n ('Sansa', 'Olenna', 7),\n ('Sansa', 'Petyr', 28),\n ('Sansa', 'Podrick', 8),\n ('Sansa', 'Renly', 4),\n ('Sansa', 'Rickon', 7),\n ('Sansa', 'Robert', 5),\n ('Sansa', 'Robert Arryn', 6),\n ('Sansa', 'Sandor', 6),\n ('Sansa', 'Shae', 8),\n ('Sansa', 'Tyrion', 77),\n ('Shae', 'Chataya', 4),\n ('Shae', 'Varys', 8),\n ('Shireen', 'Davos', 5),\n ('Stannis', 'Aemon', 4),\n ('Stannis', 'Balon', 4),\n ('Stannis', 'Davos', 32),\n ('Stannis', 'Melisandre', 20),\n ('Stannis', 'Renly', 15),\n ('Stannis', 'Samwell', 13),\n ('Tommen', 'Margaery', 5),\n ('Tyrion', 'Balon', 4),\n ('Tyrion', 'Bronn', 31),\n ('Tyrion', 'Chataya', 5),\n ('Tyrion', 'Doran', 5),\n ('Tyrion', 'Elia', 5),\n ('Tyrion', 'Ellaria', 4),\n ('Tyrion', 'Gregor', 22),\n ('Tyrion', 'Ilyn', 5),\n ('Tyrion', 'Janos', 5),\n ('Tyrion', 'Kevan', 11),\n ('Tyrion', 'Loras', 6),\n ('Tyrion', 'Mace', 9),\n ('Tyrion', 'Margaery', 7),\n ('Tyrion', 'Meryn', 5),\n ('Tyrion', 'Oberyn', 25),\n ('Tyrion', 'Petyr', 12),\n ('Tyrion', 'Podrick', 28),\n ('Tyrion', 'Pycelle', 11),\n ('Tyrion', 'Renly', 6),\n ('Tyrion', 'Robert', 9),\n ('Tyrion', 'Sandor', 4),\n ('Tyrion', 'Shae', 21),\n ('Tyrion', 'Stannis', 6),\n ('Tyrion', 'Varys', 18),\n ('Tywin', 'Balon', 5),\n ('Tywin', 'Brynden', 4),\n ('Tywin', 'Cersei', 16),\n ('Tywin', 'Gregor', 7),\n ('Tywin', 'Jaime', 13),\n ('Tywin', 'Joffrey', 13),\n ('Tywin', 'Kevan', 14),\n ('Tywin', 'Mace', 5),\n ('Tywin', 'Oberyn', 6),\n ('Tywin', 'Petyr', 4),\n ('Tywin', 'Podrick', 5),\n ('Tywin', 'Pycelle', 5),\n ('Tywin', 'Robert', 11),\n ('Tywin', 'Stannis', 15),\n ('Tywin', 'Tommen', 4),\n ('Tywin', 'Tyrion', 39),\n ('Tywin', 'Val', 4),\n ('Tywin', 'Varys', 6),\n ('Tywin', 'Walder', 4),\n ('Val', 'Dalla', 7),\n ('Varys', 'Pycelle', 4),\n ('Viserys', 'Rhaegar', 7),\n ('Viserys', 'Tyrion', 4),\n ('Walder', 'Lothar', 12),\n ('Walder', 'Petyr', 6),\n ('Walder', 'Roslin', 6),\n ('Walton', 'Jaime', 10),\n ('Ygritte', 'Qhorin', 7),\n ('Ygritte', 'Rattleshirt', 9)]"
      ]
     },
     "execution_count": 3,
     "metadata": {},
     "output_type": "execute_result"
    }
   ],
   "source": [
    "path = r'E:\\python\\PythonSpace\\Git\\Python\\Igraph\\Data\\stormofswords.csv'\n",
    "edges = []\n",
    "# 删除第一行\n",
    "firstLine = True\n",
    "with open(path, 'r') as fr:\n",
    "\tfor row in csv.reader(fr.read().splitlines()):\n",
    "\t\tif firstLine:\n",
    "\t\t\tfirstLine = False\n",
    "\t\t\tcontinue\n",
    "\t\tu, v, w = [i for i in row]\n",
    "\t\tedges.append((u, v, int(w)))\n",
    "edges"
   ]
  },
  {
   "cell_type": "code",
   "execution_count": 6,
   "metadata": {
    "collapsed": true
   },
   "outputs": [
    {
     "name": "stdout",
     "output_type": "stream",
     "text": [
      "IGRAPH DNW- 107 352 --\n+ attr: name (v), weight (e)\n+ edges (vertex names):\nAemon->Grenn, Aemon->Samwell, Aerys->Jaime, Aerys->Robert, Aerys->Tyrion,\nAerys->Tywin, Alliser->Mance, Amory->Oberyn, Arya->Anguy, Arya->Beric,\nArya->Bran, Arya->Brynden, Arya->Cersei, Arya->Gendry, Arya->Gregor,\nArya->Jaime, Arya->Joffrey, Arya->Jon, Arya->Rickon, Arya->Robert,\nArya->Roose, Arya->Sandor, Arya->Thoros, Arya->Tyrion, Balon->Loras,\nBelwas->Barristan, Belwas->Illyrio, Beric->Anguy, Beric->Gendry,\nBeric->Thoros, Bran->Hodor, Bran->Jojen, Bran->Jon, Bran->Luwin, Bran->Meera,\nBran->Nan, Bran->Rickon, Bran->Samwell, Bran->Theon, Brienne->Loras,\nBronn->Gregor, Bronn->Podrick, Brynden->Lothar, Brynden->Walder,\nCatelyn->Bran, Catelyn->Brienne, Catelyn->Brynden, Catelyn->Cersei,\nCatelyn->Edmure, Catelyn->Hoster, Catelyn->Jaime, Catelyn->Jeyne,\nCatelyn->Lysa, Catelyn->Petyr, Catelyn->Robb, Catelyn->Roose, Catelyn->Roslin,\nCatelyn->Sansa, Catelyn->Stannis, Catelyn->Tyrion, Catelyn->Walder,\nCersei->Brienne, Cersei->Bronn, Cersei->Elia, Cersei->Gregor, Cersei->Ilyn,\nCersei->Jaime, Cersei->Joffrey, Cersei->Meryn, Cersei->Pycelle,\nCersei->Robert, Cersei->Sandor, Cersei->Shae, Cersei->Tyrion, Cersei->Varys,\nCraster->Karl, Daario->Drogo, Daario->Irri, Daenerys->Aegon,\nDaenerys->Barristan, Daenerys->Belwas, Daenerys->Daario, Daenerys->Drogo,\nDaenerys->Irri, Daenerys->Jorah, Daenerys->Kraznys, Daenerys->Missandei,\nDaenerys->Rakharo, Daenerys->Rhaegar, Daenerys->Robert, Daenerys->Viserys,\nDaenerys->Worm, Davos->Cressen, Davos->Salladhor, Eddard->Arya, Eddard->Beric,\nEddard->Bran, Eddard->Catelyn, Eddard->Cersei, Eddard->Jaime, Eddard->Jon,\nEddard->Rickon, Eddard->Robb, Eddard->Robert, Eddard->Sandor, Eddard->Sansa,\nEddison->Grenn, Edmure->Brynden, Edmure->Lothar, Edmure->Roslin,\nEdmure->Walder, Gendry->Thoros, Gilly->Craster, Gregor->Elia, Gregor->Ilyn,\nGregor->Meryn, Gregor->Oberyn, Gregor->Sandor, Hodor->Jojen, Hodor->Meera,\nHoster->Edmure, Irri->Drogo, Jaime->Balon, Jaime->Barristan, Jaime->Brienne,\nJaime->Edmure, Jaime->Elia, Jaime->Gregor, Jaime->Joffrey, Jaime->Loras,\nJaime->Meryn, Jaime->Qyburn, Jaime->Renly, Jaime->Robert, Jaime->Stannis,\nJaime->Tommen, Jaime->Tyrion, Janos->Alliser, Janos->Bowen, Janos->Mance,\nJoffrey->Gregor, Joffrey->Ilyn, Joffrey->Kevan, Joffrey->Loras,\nJoffrey->Margaery, Joffrey->Meryn, Joffrey->Myrcella, Joffrey->Oberyn,\nJoffrey->Sandor, Joffrey->Stannis, Joffrey->Tommen, Joffrey->Tyrion,\nJojen->Meera, Jojen->Samwell, Jon->Aemon, Jon->Alliser, Jon->Craster,\nJon->Dalla, Jon->Eddison, Jon->Gilly, Jon->Grenn, Jon->Janos, Jon->Mance,\nJon->Meera, Jon->Melisandre, Jon->Orell, Jon->Qhorin, Jon->Rattleshirt,\nJon->Robert, Jon->Samwell, Jon->Stannis, Jon->Styr, Jon->Theon, Jon->Val,\nJon->Ygritte, Jon Arryn->Lysa, Jon Arryn->Robert, Jorah->Barristan,\nJorah->Belwas, Jorah->Daario, Jorah->Drogo, Kevan->Lancel, Kevan->Varys,\nLoras->Margaery, Loras->Olenna, Lothar->Roslin, Luwin->Nan, Lysa->Cersei,\nLysa->Hoster, Lysa->Marillion, Lysa->Petyr, Lysa->Robert Arryn, Lysa->Tyrion,\nLysa->Tywin, Mance->Craster, Mance->Dalla, Mance->Gilly, Mance->Qhorin,\nMance->Rattleshirt, Mance->Styr, Mance->Val, Mance->Ygritte, Meera->Samwell,\nMelisandre->Davos, Melisandre->Samwell, Meryn->Ilyn, Missandei->Irri,\nMyrcella->Tommen, Myrcella->Tyrion, Oberyn->Ellaria, Oberyn->Mace,\nPodrick->Margaery, Rattleshirt->Qhorin, Renly->Loras, Renly->Margaery,\nRenly->Varys, Rhaegar->Barristan, Rhaegar->Elia, Rhaegar->Jorah,\nRhaegar->Robert, Rickard->Brynden, Rickon->Theon, Robb->Arya, Robb->Balon,\nRobb->Bran, Robb->Brienne, Robb->Brynden, Robb->Edmure, Robb->Hodor,\nRobb->Jaime, Robb->Jeyne, Robb->Joffrey, Robb->Jon, Robb->Lothar, Robb->Petyr,\nRobb->Ramsay, Robb->Rickard, Robb->Rickon, Robb->Roose, Robb->Sansa,\nRobb->Stannis, Robb->Theon, Robb->Tyrion, Robb->Tywin, Robb->Walder,\nRobert->Aemon, Robert->Barristan, Robert->Renly, Robert->Stannis,\nRobert->Thoros, Robert Arryn->Marillion, Roose->Brienne, Samwell->Bowen,\nSamwell->Craster, Samwell->Eddison, Samwell->Gilly, Samwell->Grenn,\nSamwell->Janos, Samwell->Mance, Samwell->Qhorin, Sandor->Beric,\nSandor->Gendry, Sandor->Ilyn, Sandor->Meryn, Sandor->Robert, Sandor->Thoros,\nSansa->Arya, Sansa->Bran, Sansa->Brienne, Sansa->Cersei, Sansa->Jaime,\nSansa->Joffrey, Sansa->Jon, Sansa->Kevan, Sansa->Loras, Sansa->Lysa,\nSansa->Margaery, Sansa->Marillion, Sansa->Myrcella, Sansa->Olenna,\nSansa->Petyr, Sansa->Podrick, Sansa->Renly, Sansa->Rickon, Sansa->Robert,\nSansa->Robert Arryn, Sansa->Sandor, Sansa->Shae, Sansa->Tyrion, Shae->Chataya,\nShae->Varys, Shireen->Davos, Stannis->Aemon, Stannis->Balon, Stannis->Davos,\nStannis->Melisandre, Stannis->Renly, Stannis->Samwell, Tommen->Margaery,\nTyrion->Balon, Tyrion->Bronn, Tyrion->Chataya, Tyrion->Doran, Tyrion->Elia,\nTyrion->Ellaria, Tyrion->Gregor, Tyrion->Ilyn, Tyrion->Janos, Tyrion->Kevan,\nTyrion->Loras, Tyrion->Mace, Tyrion->Margaery, Tyrion->Meryn, Tyrion->Oberyn,\nTyrion->Petyr, Tyrion->Podrick, Tyrion->Pycelle, Tyrion->Renly,\nTyrion->Robert, Tyrion->Sandor, Tyrion->Shae, Tyrion->Stannis, Tyrion->Varys,\nTywin->Balon, Tywin->Brynden, Tywin->Cersei, Tywin->Gregor, Tywin->Jaime,\nTywin->Joffrey, Tywin->Kevan, Tywin->Mace, Tywin->Oberyn, Tywin->Petyr,\nTywin->Podrick, Tywin->Pycelle, Tywin->Robert, Tywin->Stannis, Tywin->Tommen,\nTywin->Tyrion, Tywin->Val, Tywin->Varys, Tywin->Walder, Val->Dalla,\nVarys->Pycelle, Viserys->Rhaegar, Viserys->Tyrion, Walder->Lothar,\nWalder->Petyr, Walder->Roslin, Walton->Jaime, Ygritte->Qhorin,\nYgritte->Rattleshirt\n"
     ]
    }
   ],
   "source": [
    "# 转化成有向带权图\n",
    "g = Graph.TupleList(edges, directed=True, weights=True)\n",
    "print(g)"
   ]
  },
  {
   "cell_type": "code",
   "execution_count": 8,
   "metadata": {
    "collapsed": true
   },
   "outputs": [
    {
     "name": "stdout",
     "output_type": "stream",
     "text": [
      "['Aemon', 'Grenn', 'Samwell', 'Aerys', 'Jaime', 'Robert', 'Tyrion', 'Tywin', 'Alliser', 'Mance', 'Amory', 'Oberyn', 'Arya', 'Anguy', 'Beric', 'Bran', 'Brynden', 'Cersei', 'Gendry', 'Gregor', 'Joffrey', 'Jon', 'Rickon', 'Roose', 'Sandor', 'Thoros', 'Balon', 'Loras', 'Belwas', 'Barristan', 'Illyrio', 'Hodor', 'Jojen', 'Luwin', 'Meera', 'Nan', 'Theon', 'Brienne', 'Bronn', 'Podrick', 'Lothar', 'Walder', 'Catelyn', 'Edmure', 'Hoster', 'Jeyne', 'Lysa', 'Petyr', 'Robb', 'Roslin', 'Sansa', 'Stannis', 'Elia', 'Ilyn', 'Meryn', 'Pycelle', 'Shae', 'Varys', 'Craster', 'Karl', 'Daario', 'Drogo', 'Irri', 'Daenerys', 'Aegon', 'Jorah', 'Kraznys', 'Missandei', 'Rakharo', 'Rhaegar', 'Viserys', 'Worm', 'Davos', 'Cressen', 'Salladhor', 'Eddard', 'Eddison', 'Gilly', 'Qyburn', 'Renly', 'Tommen', 'Janos', 'Bowen', 'Kevan', 'Margaery', 'Myrcella', 'Dalla', 'Melisandre', 'Orell', 'Qhorin', 'Rattleshirt', 'Styr', 'Val', 'Ygritte', 'Jon Arryn', 'Lancel', 'Olenna', 'Marillion', 'Robert Arryn', 'Ellaria', 'Mace', 'Rickard', 'Ramsay', 'Chataya', 'Shireen', 'Doran', 'Walton']\n[5, 31, 18, 6, 5, 8, 5, 5, 11, 23, 9, 6, 5, 43, 7, 11, 6, 7, 8, 4, 5, 46, 18, 5, 4, 18, 10, 4, 4, 21, 96, 46, 12, 4, 54, 14, 35, 11, 11, 7, 5, 19, 4, 5, 4, 7, 8, 4, 16, 9, 19, 10, 8, 5, 43, 4, 6, 8, 4, 5, 19, 5, 4, 4, 6, 7, 36, 23, 10, 4, 16, 6, 4, 46, 4, 6, 4, 5, 8, 20, 26, 14, 18, 17, 47, 10, 26, 7, 12, 5, 8, 14, 4, 16, 18, 8, 15, 5, 6, 6, 8, 8, 13, 10, 5, 6, 8, 7, 4, 16, 9, 7, 17, 9, 7, 7, 24, 12, 35, 41, 9, 7, 6, 4, 88, 5, 4, 6, 15, 16, 11, 11, 7, 17, 5, 8, 31, 9, 5, 4, 5, 4, 8, 7, 28, 5, 5, 4, 14, 10, 9, 54, 33, 11, 30, 15, 7, 6, 4, 9, 25, 8, 69, 4, 7, 6, 31, 20, 5, 52, 9, 16, 8, 12, 54, 5, 6, 11, 13, 7, 6, 7, 5, 9, 5, 4, 4, 4, 6, 10, 29, 9, 5, 4, 11, 8, 7, 10, 9, 7, 8, 12, 7, 30, 5, 5, 4, 5, 4, 6, 6, 4, 6, 8, 7, 4, 5, 7, 5, 6, 4, 8, 15, 6, 23, 6, 17, 32, 5, 15, 18, 10, 14, 10, 5, 4, 7, 15, 4, 15, 4, 11, 12, 12, 26, 4, 5, 4, 5, 4, 4, 4, 6, 34, 12, 36, 43, 6, 10, 5, 15, 5, 4, 4, 6, 10, 22, 10, 5, 16, 10, 35, 4, 5, 14, 28, 36, 9, 4, 7, 28, 8, 4, 7, 5, 6, 6, 8, 77, 4, 8, 5, 4, 4, 32, 20, 15, 13, 5, 4, 31, 5, 5, 5, 4, 22, 5, 5, 11, 6, 9, 7, 5, 25, 12, 28, 11, 6, 9, 4, 21, 6, 18, 5, 4, 16, 7, 13, 13, 14, 5, 6, 4, 5, 5, 11, 15, 4, 39, 4, 6, 4, 7, 4, 7, 4, 12, 6, 6, 10, 7, 9]\nTrue\n"
     ]
    }
   ],
   "source": [
    "names = g.vs[\"name\"]\n",
    "weights = g.es[\"weight\"]\n",
    "print(names)\n",
    "print(weights)\n",
    "print(g.is_weighted())"
   ]
  },
  {
   "cell_type": "code",
   "execution_count": 9,
   "metadata": {},
   "outputs": [
    {
     "data": {
      "text/plain": [
       "107"
      ]
     },
     "execution_count": 9,
     "metadata": {},
     "output_type": "execute_result"
    }
   ],
   "source": [
    "# 节点数\n",
    "g.vcount()"
   ]
  },
  {
   "cell_type": "code",
   "execution_count": 12,
   "metadata": {},
   "outputs": [
    {
     "name": "stdout",
     "output_type": "stream",
     "text": [
      "7\n[38, 19, 24, 5, 0, 2, 9, 86]\n['Bronn', 'Gregor', 'Sandor', 'Robert', 'Aemon', 'Samwell', 'Mance', 'Dalla']\n"
     ]
    }
   ],
   "source": [
    "# 网络直径：最短路径的最大值\n",
    "print(g.diameter())\n",
    "print(g.get_diameter())\n",
    "print([names[x] for x in g.get_diameter()])"
   ]
  },
  {
   "cell_type": "code",
   "execution_count": 19,
   "metadata": {
    "collapsed": true
   },
   "outputs": [
    {
     "name": "stdout",
     "output_type": "stream",
     "text": [
      "[[3]]\n['Aerys']\n['Aemon']\n['Aemon', 'Grenn']\n['Aemon', 'Samwell']\n['Aemon', 'Samwell', 'Janos', 'Alliser']\n['Aemon', 'Samwell', 'Mance']\n['Aemon', 'Samwell', 'Craster']\n['Aemon', 'Samwell', 'Craster', 'Karl']\n['Aemon', 'Samwell', 'Eddison']\n['Aemon', 'Samwell', 'Gilly']\n['Aemon', 'Samwell', 'Janos']\n['Aemon', 'Samwell', 'Bowen']\n['Aemon', 'Samwell', 'Mance', 'Dalla']\n['Aemon', 'Samwell', 'Qhorin']\n['Aemon', 'Samwell', 'Mance', 'Rattleshirt']\n['Aemon', 'Samwell', 'Mance', 'Styr']\n['Aemon', 'Samwell', 'Mance', 'Val']\n['Aemon', 'Samwell', 'Mance', 'Ygritte']\n"
     ]
    }
   ],
   "source": [
    "# 最短路径\n",
    "print(g.shortest_paths(\"Bronn\", \"Robert\"))\n",
    "print([names[x] for x in g.shortest_paths(\"Bronn\", \"Robert\")[0]])\n",
    "paths = g.get_all_shortest_paths(0)\n",
    "for p in paths:\n",
    "\tprint([names[x] for x in p])"
   ]
  },
  {
   "cell_type": "code",
   "execution_count": 22,
   "metadata": {},
   "outputs": [
    {
     "name": "stdout",
     "output_type": "stream",
     "text": [
      "36\nJaime 24\nRobert 18\nTyrion 36\nTywin 22\nArya 19\nCersei 20\nJoffrey 18\nJon 26\nCatelyn 18\nRobb 25\nSansa 26\n"
     ]
    }
   ],
   "source": [
    "# 中心性度量：一个节点在网络中的连接数\n",
    "print(g.maxdegree())\n",
    "for p in g.vs:\n",
    "\tif p.degree() > 15:\n",
    "\t\tprint(p[\"name\"], p.degree())"
   ]
  },
  {
   "cell_type": "code",
   "execution_count": 23,
   "metadata": {},
   "outputs": [
    {
     "name": "stdout",
     "output_type": "stream",
     "text": [
      "Jaime 307\nRobert 262\nTyrion 357\nTywin 251\nArya 279\nCersei 273\nJoffrey 262\nRobb 301\nSansa 325\n"
     ]
    }
   ],
   "source": [
    "# 加权中心性：考虑邻居的邻居数\n",
    "for p in g.vs:\n",
    "\tweightDegree = sum([x.degree() for x in p.neighbors()])\n",
    "\tif weightDegree > 250:\n",
    "\t\tprint(p[\"name\"], weightDegree)"
   ]
  },
  {
   "cell_type": "code",
   "execution_count": 28,
   "metadata": {},
   "outputs": [],
   "source": [
    "# 邻居平均度\n",
    "for p in g.vs:\n",
    "\tif p in zip(g.vs, g.knn()[0]):\n",
    "\t\tif p[1] > 0:\n",
    "\t\t\tprint(p[0][\"name\"], p[1])"
   ]
  },
  {
   "cell_type": "code",
   "execution_count": 33,
   "metadata": {
    "collapsed": true
   },
   "outputs": [
    {
     "name": "stdout",
     "output_type": "stream",
     "text": [
      "0 ['Aemon', 'Grenn', 'Samwell', 'Alliser', 'Mance', 'Jon', 'Craster', 'Karl', 'Eddison', 'Gilly', 'Janos', 'Bowen', 'Dalla', 'Orell', 'Qhorin', 'Rattleshirt', 'Styr', 'Val', 'Ygritte']\n1 ['Aerys', 'Jaime', 'Robert', 'Tyrion', 'Tywin', 'Amory', 'Oberyn', 'Cersei', 'Gregor', 'Joffrey', 'Balon', 'Loras', 'Brienne', 'Bronn', 'Podrick', 'Lysa', 'Petyr', 'Sansa', 'Elia', 'Ilyn', 'Meryn', 'Pycelle', 'Shae', 'Varys', 'Qyburn', 'Renly', 'Tommen', 'Kevan', 'Margaery', 'Myrcella', 'Jon Arryn', 'Olenna', 'Marillion', 'Robert Arryn', 'Ellaria', 'Mace', 'Chataya', 'Doran', 'Walton']\n2 ['Arya', 'Anguy', 'Beric', 'Gendry', 'Sandor', 'Thoros', 'Eddard']\n3 ['Bran', 'Rickon', 'Hodor', 'Jojen', 'Luwin', 'Meera', 'Nan', 'Theon']\n4 ['Brynden', 'Roose', 'Lothar', 'Walder', 'Catelyn', 'Edmure', 'Hoster', 'Jeyne', 'Robb', 'Roslin', 'Rickard', 'Ramsay']\n5 ['Belwas', 'Barristan', 'Illyrio', 'Daario', 'Drogo', 'Irri', 'Daenerys', 'Aegon', 'Jorah', 'Kraznys', 'Missandei', 'Rakharo', 'Rhaegar', 'Viserys', 'Worm']\n6 ['Stannis', 'Davos', 'Cressen', 'Salladhor', 'Melisandre', 'Shireen']\n7 ['Lancel']\n"
     ]
    }
   ],
   "source": [
    "# 社区检测（使用随机游走的方法）\n",
    "clusters = Graph.community_walktrap(g, weights=\"weight\").as_clustering()\n",
    "nodes = [{\"name\": node[\"name\"]} for node in g.vs]\n",
    "community = {}\n",
    "for node in nodes:\n",
    "\tidx = g.vs.find(name=node[\"name\"]).index\n",
    "\tnode[\"community\"] = clusters.membership[idx]\n",
    "\tif node[\"community\"] not in community:\n",
    "\t\tcommunity[node[\"community\"]] = [node[\"name\"]]\n",
    "\telse:\n",
    "\t\tcommunity[node[\"community\"]].append(node[\"name\"])\n",
    "for i in range(len(community)):\n",
    "\tprint(i, community[i])"
   ]
  },
  {
   "cell_type": "code",
   "execution_count": null,
   "metadata": {},
   "outputs": [],
   "source": [
    ""
   ]
  }
 ],
 "metadata": {
  "kernelspec": {
   "display_name": "Python 2",
   "language": "python",
   "name": "python2"
  },
  "language_info": {
   "codemirror_mode": {
    "name": "ipython",
    "version": 2.0
   },
   "file_extension": ".py",
   "mimetype": "text/x-python",
   "name": "python",
   "nbconvert_exporter": "python",
   "pygments_lexer": "ipython2",
   "version": "2.7.6"
  }
 },
 "nbformat": 4,
 "nbformat_minor": 0
}