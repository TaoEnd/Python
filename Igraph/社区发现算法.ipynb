{
 "cells": [
  {
   "cell_type": "code",
   "execution_count": 4,
   "metadata": {
    "collapsed": true
   },
   "outputs": [],
   "source": [
    "# coding:utf-8\n",
    "from igraph import *\n",
    "import csv"
   ]
  },
  {
   "cell_type": "code",
   "execution_count": 2,
   "metadata": {},
   "outputs": [],
   "source": [
    "# 社区：同一个社区内的节点之间的连接很紧密，不同社区\n",
    "# 之间的连接比较稀疏。当两个社区之间存在节点的交集时，\n",
    "# 称它们为重叠社区，否则为非重叠社区\n",
    "\n",
    "# 社区发现算法：\n",
    "# GN算法（O(n^3)）\n",
    "# 边介数：对于任意一条边，经过该条边的最短路径的数量，就称为边介数\n",
    "# GN算法运行过程：\n",
    "# 1.计算网络中所有边的边介数\n",
    "# 2.找到介数最大的边，并将它从图中移除 \n",
    "# 3.重复以上步骤，直到满足一定条件（比如达到指定社区数量）"
   ]
  },
  {
   "cell_type": "code",
   "execution_count": 6,
   "metadata": {},
   "outputs": [],
   "source": [
    "netPath = r'E:\\python\\PythonSpace\\Git\\Python\\Igraph\\Data\\net.data'\n",
    "edges = []\n",
    "with open(netPath, 'r') as fr:\n",
    "\tfor row in csv.reader(fr.read().splitlines()):\n",
    "\t\tu, v = [i for i in row]\n",
    "\t\tedges.append((u, v))\n",
    "g = Graph.TupleList(edges, vertex_name_attr=\"point\")\n",
    "points = g.vs[\"point\"]"
   ]
  },
  {
   "cell_type": "code",
   "execution_count": 7,
   "metadata": {
    "collapsed": true
   },
   "outputs": [
    {
     "data": {
      "text/plain": [
       "[{'bt': 49.0, 'edge': ('7', '8')},\n {'bt': 33.0, 'edge': ('3', '7')},\n {'bt': 33.0, 'edge': ('7', '6')},\n {'bt': 33.0, 'edge': ('8', '9')},\n {'bt': 33.0, 'edge': ('8', '12')},\n {'bt': 12.0, 'edge': ('1', '3')},\n {'bt': 12.0, 'edge': ('2', '3')},\n {'bt': 12.0, 'edge': ('4', '6')},\n {'bt': 12.0, 'edge': ('5', '6')},\n {'bt': 12.0, 'edge': ('9', '10')},\n {'bt': 12.0, 'edge': ('9', '11')},\n {'bt': 12.0, 'edge': ('12', '13')},\n {'bt': 12.0, 'edge': ('12', '14')},\n {'bt': 1.0, 'edge': ('1', '2')},\n {'bt': 1.0, 'edge': ('4', '5')},\n {'bt': 1.0, 'edge': ('10', '11')},\n {'bt': 1.0, 'edge': ('13', '14')}]"
      ]
     },
     "execution_count": 7,
     "metadata": {},
     "output_type": "execute_result"
    }
   ],
   "source": [
    "# GN算法 - 边介数\n",
    "btes = []\n",
    "for p in zip(g.es(), g.edge_betweenness()):\n",
    "\te = p[0].tuple\n",
    "\tbtes.append({\"edge\": (points[e[0]], points[e[1]]), \"bt\": p[1]})\n",
    "sorted(btes, key=lambda k: k[\"bt\"], reverse=True)"
   ]
  },
  {
   "cell_type": "code",
   "execution_count": 8,
   "metadata": {
    "collapsed": true
   },
   "outputs": [
    {
     "name": "stdout",
     "output_type": "stream",
     "text": [
      "Dendrogram, 14 elements, 13 merges\n\n0 1 2 3 4 5 6 7 11 12 13 8 9 10\n| | | | | | | | |  |  |  | | |\n| | | | | | | | |  `--'  | | |\n| | | | | | | | |   |    | | |\n| | | | | | | | `---'    | `-'\n| | | | | | | |   |      |  | \n| | | | | `-' |   |      `--' \n| | | | |  |  |   |       |   \n| `-' | `--'  |   |       |   \n|  |  |  |    |   |       |   \n`--'  `--'    `---'       |   \n |     |        |         |   \n `-----'        `---------'   \n    |                |        \n    `----------------'\n['1', '2', '3', '7', '4', '5', '6', '8', '9', '10', '11', '12', '13', '14']\n"
     ]
    }
   ],
   "source": [
    "communities = g.community_edge_betweenness()\n",
    "print(communities)\n",
    "print(g.vs[\"point\"])"
   ]
  },
  {
   "cell_type": "code",
   "execution_count": 9,
   "metadata": {},
   "outputs": [],
   "source": [
    "# 社区评价指标\n",
    "\n",
    "# 模块度（[0, 1]）：对整个图的社区划分结果进行评价\n",
    "# 基本思想：一个图中存在社区时任意两个节点之间存在边的概率要大于\n",
    "# 不存在社区时任意两个节点之间存在边的概率\n",
    "\n",
    "# 阻断率：对划分结果中的单个社区进行评价\n",
    "# 该社区中与外界连通连通的边数比上当前社区中边的数量"
   ]
  },
  {
   "cell_type": "code",
   "execution_count": null,
   "metadata": {},
   "outputs": [],
   "source": [
    "# Louvain算法（O(n^3)）\n",
    "# 基于模块度的启发式算法\n",
    "# 比如从节点a开始，它与b,c,d三个节点连接\n",
    "# 首先计算分别将b,c,d加入a所在的社区，计算加入后模块度的增量\n",
    "# 然后选择增量最大的那个节点，加入a所在的社区"
   ]
  },
  {
   "cell_type": "code",
   "execution_count": 10,
   "metadata": {},
   "outputs": [],
   "source": [
    "# LPA算法（近似于O(n)），但是该算法的稳定性不好，在工业界使用不多\n",
    "# 该算法不需要预先知识，不用预先给定社区的数量，可以控制迭代次数来\n",
    "# 划分节点类别\n",
    "\n",
    "# 1.初始化每个节点，给其唯一标签 \n",
    "# 2.对所有节点进行同步更新，对于任意一个节点，用它所有邻居中最多的标签对其更新\n",
    "# 3.重复，直到收敛（该算法可能会不收敛）"
   ]
  },
  {
   "cell_type": "code",
   "execution_count": 1,
   "metadata": {},
   "outputs": [],
   "source": [
    "# SLPA算法（LPA算法的改进版）"
   ]
  },
  {
   "cell_type": "code",
   "execution_count": null,
   "metadata": {},
   "outputs": [],
   "source": [
    ""
   ]
  }
 ],
 "metadata": {
  "kernelspec": {
   "display_name": "Python 2",
   "language": "python",
   "name": "python2"
  },
  "language_info": {
   "codemirror_mode": {
    "name": "ipython",
    "version": 2.0
   },
   "file_extension": ".py",
   "mimetype": "text/x-python",
   "name": "python",
   "nbconvert_exporter": "python",
   "pygments_lexer": "ipython2",
   "version": "2.7.6"
  }
 },
 "nbformat": 4,
 "nbformat_minor": 0
}