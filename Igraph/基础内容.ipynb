{
 "cells": [
  {
   "cell_type": "code",
   "execution_count": 4,
   "metadata": {
    "collapsed": true
   },
   "outputs": [],
   "source": [
    "# coding:utf-8\n",
    "from igraph import *\n",
    "import csv"
   ]
  },
  {
   "cell_type": "code",
   "execution_count": 6,
   "metadata": {},
   "outputs": [],
   "source": [
    "g = Graph([(0, 1), (0, 2), (1, 2)])\n",
    "g"
   ]
  },
  {
   "cell_type": "code",
   "execution_count": 7,
   "metadata": {
    "collapsed": true
   },
   "outputs": [
    {
     "data": {
      "text/plain": [
       "[2, 2, 2]"
      ]
     },
     "execution_count": 7,
     "metadata": {},
     "output_type": "execute_result"
    }
   ],
   "source": [
    "g.degree()"
   ]
  },
  {
   "cell_type": "code",
   "execution_count": 8,
   "metadata": {
    "collapsed": true
   },
   "outputs": [
    {
     "name": "stdout",
     "output_type": "stream",
     "text": [
      "IGRAPH U--- 3 3 -- \n"
     ]
    }
   ],
   "source": [
    "summary(g)"
   ]
  },
  {
   "cell_type": "code",
   "execution_count": 5,
   "metadata": {
    "collapsed": true
   },
   "outputs": [
    {
     "name": "stdout",
     "output_type": "stream",
     "text": [
      "IGRAPH U--- 14 17 --\n+ attr: point (v)\n+ edges:\n0--1 0--2 1--2 2--3 4--5 4--6 5--6 3--6 3--7 7--8 8--9 8--10 9--10 7--11\n11--12 11--13 12--13\n<class 'str'> 1 2\n<class 'str'> 2 2\n<class 'str'> 3 3\n<class 'str'> 7 3\n<class 'str'> 4 2\n<class 'str'> 5 2\n<class 'str'> 6 3\n<class 'str'> 8 3\n<class 'str'> 9 3\n<class 'str'> 10 2\n<class 'str'> 11 2\n<class 'str'> 12 3\n<class 'str'> 13 2\n<class 'str'> 14 2\n"
     ]
    }
   ],
   "source": [
    "# 度\n",
    "netPath = r'E:\\python\\PythonSpace\\Git\\Python\\Igraph\\Data\\net.data'\n",
    "edges = []\n",
    "with open(netPath, 'r') as fr:\n",
    "\tfor row in csv.reader(fr.read().splitlines()):\n",
    "\t\tu, v = [i for i in row]\n",
    "\t\tedges.append((u, v))\n",
    "# 默认生成无向图\n",
    "# vertex_name_attr设置点的名字\n",
    "g = Graph.TupleList(edges, vertex_name_attr=\"point\")\n",
    "print(g)\n",
    "# g.vs表示点的顺序\n",
    "for p in g.vs:\n",
    "\tprint(type(p[\"point\"]), p[\"point\"], p.degree())"
   ]
  },
  {
   "cell_type": "code",
   "execution_count": 22,
   "metadata": {
    "collapsed": true
   },
   "outputs": [
    {
     "name": "stdout",
     "output_type": "stream",
     "text": [
      "igraph.Vertex(<igraph.Graph object at 0x0000023400E2D8B8>, 0, {'point': '1'})\nigraph.Vertex(<igraph.Graph object at 0x0000023400E2D8B8>, 1, {'point': '2'})\nigraph.Vertex(<igraph.Graph object at 0x0000023400E2D8B8>, 2, {'point': '3'})\nigraph.Vertex(<igraph.Graph object at 0x0000023400E2D8B8>, 3, {'point': '7'})\nigraph.Vertex(<igraph.Graph object at 0x0000023400E2D8B8>, 4, {'point': '4'})\nigraph.Vertex(<igraph.Graph object at 0x0000023400E2D8B8>, 5, {'point': '5'})\nigraph.Vertex(<igraph.Graph object at 0x0000023400E2D8B8>, 6, {'point': '6'})\nigraph.Vertex(<igraph.Graph object at 0x0000023400E2D8B8>, 7, {'point': '8'})\nigraph.Vertex(<igraph.Graph object at 0x0000023400E2D8B8>, 8, {'point': '9'})\nigraph.Vertex(<igraph.Graph object at 0x0000023400E2D8B8>, 9, {'point': '10'})\nigraph.Vertex(<igraph.Graph object at 0x0000023400E2D8B8>, 10, {'point': '11'})\nigraph.Vertex(<igraph.Graph object at 0x0000023400E2D8B8>, 11, {'point': '12'})\nigraph.Vertex(<igraph.Graph object at 0x0000023400E2D8B8>, 12, {'point': '13'})\nigraph.Vertex(<igraph.Graph object at 0x0000023400E2D8B8>, 13, {'point': '14'})\n"
     ]
    }
   ],
   "source": [
    "for p in g.vs:\n",
    "\tprint(p)"
   ]
  },
  {
   "cell_type": "code",
   "execution_count": 28,
   "metadata": {
    "collapsed": true
   },
   "outputs": [
    {
     "name": "stdout",
     "output_type": "stream",
     "text": [
      "['8', '7', '3', '1']\n['8', '7', '3', '2']\n['8', '7', '3']\n['8', '7']\n['8', '7', '6', '4']\n['8', '7', '6', '5']\n['8', '7', '6']\n['8']\n['8', '9']\n['8', '9', '10']\n['8', '9', '11']\n['8', '12']\n['8', '12', '13']\n['8', '12', '14']\ncloseness centrality = 0.48148148148148145\n"
     ]
    }
   ],
   "source": [
    "# 紧密中心性\n",
    "# 表示某个节点到达其它节点的难易程度，紧密中心性越大，则说明该节点\n",
    "# 周围的其它点越密集\n",
    "# 计算方式：该节点到达其它所有节点（不包括自身）的最短路径和的倒数\n",
    "# 计算“7”号节点的紧密中心度\n",
    "# get_all_shortest_paths(3)取第四个元素\n",
    "paths = g.get_all_shortest_paths(7)\n",
    "points = g.vs[\"point\"]\n",
    "pathLength = 0\n",
    "for p in paths:\n",
    "\tprint([points[x] for x in p])\n",
    "\t# “7”号节点到其它节点的路径长度\n",
    "\tpathLength += len(p) - 1\n",
    "print(\"closeness centrality =\", (len(paths)-1)/pathLength)"
   ]
  },
  {
   "cell_type": "code",
   "execution_count": 26,
   "metadata": {
    "collapsed": true
   },
   "outputs": [
    {
     "data": {
      "text/plain": [
       "[{'cc': 0.48148148148148145, 'point': '7'},\n {'cc': 0.48148148148148145, 'point': '8'},\n {'cc': 0.37142857142857144, 'point': '3'},\n {'cc': 0.37142857142857144, 'point': '6'},\n {'cc': 0.37142857142857144, 'point': '9'},\n {'cc': 0.37142857142857144, 'point': '12'},\n {'cc': 0.2826086956521739, 'point': '1'},\n {'cc': 0.2826086956521739, 'point': '2'},\n {'cc': 0.2826086956521739, 'point': '4'},\n {'cc': 0.2826086956521739, 'point': '5'}]"
      ]
     },
     "execution_count": 26,
     "metadata": {},
     "output_type": "execute_result"
    }
   ],
   "source": [
    "# 使用紧密中心性函数\n",
    "ccvs = []\n",
    "for p in zip(g.vs, g.closeness()):\n",
    "\tccvs.append({\"point\" : p[0][\"point\"], \"cc\" : p[1]})\n",
    "# 逆序输出前10个\n",
    "sorted(ccvs, key=lambda k : k[\"cc\"], reverse=True)[:10]"
   ]
  },
  {
   "cell_type": "code",
   "execution_count": 29,
   "metadata": {
    "collapsed": true
   },
   "outputs": [
    {
     "name": "stdout",
     "output_type": "stream",
     "text": [
      "[7, 3, 2, 0]\n[7, 3, 2, 1]\n[7, 3, 2]\n[7, 3]\n[7, 3, 6, 4]\n[7, 3, 6, 5]\n[7, 3, 6]\n[7]\n[7, 8]\n[7, 8, 9]\n[7, 8, 10]\n[7, 11]\n[7, 11, 12]\n[7, 11, 13]\n"
     ]
    }
   ],
   "source": [
    "for p in paths:\n",
    "\tprint(p)"
   ]
  },
  {
   "cell_type": "code",
   "execution_count": 32,
   "metadata": {},
   "outputs": [
    {
     "name": "stdout",
     "output_type": "stream",
     "text": [
      "betweenness = 51\n"
     ]
    }
   ],
   "source": [
    "# 介数中心性\n",
    "# 用来衡量一个节点作为“桥梁”的重要程度\n",
    "# 介数的计算方式：\n",
    "#   对于任意一个点p，首先计算整个图中任意两个顶点之间最短路径数量之和，\n",
    "#   然后判断哪些路径中（不能是头尾节点）包含节点p，包含则p点的介数加1\n",
    "sp = []\n",
    "point = 7\n",
    "for i in range(len(g.vs)):\n",
    "\tpaths = g.get_all_shortest_paths(i)\n",
    "\tfor p in paths:\n",
    "\t\tif point in p and point != p[0] and point != p[-1]:\n",
    "\t\t\tsp.append(p)\n",
    "# 去重\n",
    "spbt = 0\n",
    "tu = []\n",
    "for x in sp:\n",
    "\tif set((x[0], x[-1])) not in tu:\n",
    "\t\ttu.append(set((x[0], x[-1])))\n",
    "\t\tspbt += 1\n",
    "print(\"betweenness =\", spbt)"
   ]
  },
  {
   "cell_type": "code",
   "execution_count": 33,
   "metadata": {
    "collapsed": true
   },
   "outputs": [
    {
     "data": {
      "text/plain": [
       "[{'bt': 51.0, 'point': '7'},\n {'bt': 51.0, 'point': '8'},\n {'bt': 22.0, 'point': '3'},\n {'bt': 22.0, 'point': '6'},\n {'bt': 22.0, 'point': '9'},\n {'bt': 22.0, 'point': '12'},\n {'bt': 0.0, 'point': '1'},\n {'bt': 0.0, 'point': '2'},\n {'bt': 0.0, 'point': '4'},\n {'bt': 0.0, 'point': '5'},\n {'bt': 0.0, 'point': '10'},\n {'bt': 0.0, 'point': '11'},\n {'bt': 0.0, 'point': '13'},\n {'bt': 0.0, 'point': '14'}]"
      ]
     },
     "execution_count": 33,
     "metadata": {},
     "output_type": "execute_result"
    }
   ],
   "source": [
    "# 使用函数计算点介数\n",
    "btvs = []\n",
    "for p in zip(g.vs, g.betweenness()):\n",
    "\tbtvs.append({\"point\": p[0][\"point\"], \"bt\": p[1]})\n",
    "# key=lambda k: k[\"bt\"]指明按照哪个指标排序\n",
    "sorted(btvs, key=lambda k: k[\"bt\"], reverse=True)"
   ]
  },
  {
   "cell_type": "code",
   "execution_count": 6,
   "metadata": {},
   "outputs": [
    {
     "data": {
      "text/plain": [
       "[{'pg': 0.08621177802944507, 'point': '3'},\n {'pg': 0.08621177802944507, 'point': '6'},\n {'pg': 0.08621177802944506, 'point': '9'},\n {'pg': 0.08621177802944506, 'point': '12'},\n {'pg': 0.08311761850833196, 'point': '7'},\n {'pg': 0.08311761850833196, 'point': '8'},\n {'pg': 0.06111470635819448, 'point': '2'},\n {'pg': 0.06111470635819448, 'point': '5'},\n {'pg': 0.06111470635819448, 'point': '14'},\n {'pg': 0.06111470635819447, 'point': '1'}]"
      ]
     },
     "execution_count": 6,
     "metadata": {},
     "output_type": "execute_result"
    }
   ],
   "source": [
    "# PageRank算法，计算每个节点的重要度\n",
    "pg = g.pagerank()\n",
    "pgvs = []\n",
    "for p in zip(g.vs, pg):\n",
    "\tpgvs.append({\"point\": p[0][\"point\"], \"pg\": p[1]})\n",
    "sorted(pgvs, key=lambda k: k[\"pg\"], reverse=True)[:10]"
   ]
  },
  {
   "cell_type": "code",
   "execution_count": null,
   "metadata": {},
   "outputs": [],
   "source": [
    ""
   ]
  }
 ],
 "metadata": {
  "kernelspec": {
   "display_name": "Python 2",
   "language": "python",
   "name": "python2"
  },
  "language_info": {
   "codemirror_mode": {
    "name": "ipython",
    "version": 2.0
   },
   "file_extension": ".py",
   "mimetype": "text/x-python",
   "name": "python",
   "nbconvert_exporter": "python",
   "pygments_lexer": "ipython2",
   "version": "2.7.6"
  }
 },
 "nbformat": 4,
 "nbformat_minor": 0
}