{
 "cells": [
  {
   "cell_type": "code",
   "execution_count": 1,
   "metadata": {
    "collapsed": true
   },
   "outputs": [],
   "source": [
    "# coding:utf-8\n",
    "import numpy as np"
   ]
  },
  {
   "cell_type": "code",
   "execution_count": 2,
   "metadata": {
    "collapsed": true
   },
   "outputs": [
    {
     "name": "stdout",
     "output_type": "stream",
     "text": [
      "[[ 1.  1.  1.]\n [ 1.  1.  1.]]\n[0 1 2]\n"
     ]
    }
   ],
   "source": [
    "n1 = np.ones((2, 3))\n",
    "n2 = np.arange(3)\n",
    "print(n1)\n",
    "print(n2)"
   ]
  },
  {
   "cell_type": "code",
   "execution_count": 11,
   "metadata": {
    "collapsed": true
   },
   "outputs": [
    {
     "name": "stdout",
     "output_type": "stream",
     "text": [
      "[8 5 1]\n[ 14.  14.]\n"
     ]
    }
   ],
   "source": [
    "# n1和n2的维度不相同，但是在numpy中可以直接做加法\n",
    "# 因为numpy中存在广播机制，维度不对应时，自动补全\n",
    "# 比如就将n2补成了[[1,2,3],[1,2,3]]，它使用原本数组中\n",
    "# 存在的内容补充其它，这个自动补全必须保证列数是相同的\n",
    "# n3 = n1 * n2，将n1和n2的对应位置相乘\n",
    "n2 = np.random.randint(0, 10, size=3)\n",
    "n3 = n1.dot(n2)\n",
    "print(n2)\n",
    "print(n3)"
   ]
  },
  {
   "cell_type": "code",
   "execution_count": 12,
   "metadata": {
    "collapsed": true
   },
   "outputs": [
    {
     "data": {
      "text/plain": [
       "array([2, 3, 4, 7, 9])"
      ]
     },
     "execution_count": 12,
     "metadata": {},
     "output_type": "execute_result"
    }
   ],
   "source": [
    "# 排序\n",
    "n1 = np.array([2, 9, 4, 7, 3])\n",
    "# 快排，可以传axis参数，对行列进行排序\n",
    "# np.sort(n1)\n",
    "n1.sort()\n",
    "n1"
   ]
  },
  {
   "cell_type": "code",
   "execution_count": 13,
   "metadata": {
    "collapsed": true
   },
   "outputs": [
    {
     "data": {
      "text/plain": [
       "array([2, 3, 4, 7, 9])"
      ]
     },
     "execution_count": 13,
     "metadata": {},
     "output_type": "execute_result"
    }
   ],
   "source": [
    "# np.sort()可以选择快排、堆排序和归并排序\n",
    "np.sort(n1)\n",
    "n1"
   ]
  },
  {
   "cell_type": "code",
   "execution_count": 15,
   "metadata": {
    "collapsed": true
   },
   "outputs": [
    {
     "data": {
      "text/plain": [
       "array([118,  33,   3,  50,  55,  94, 125,  62,  12,  88,  29, 132,  25,\n        71, 101,  23,  91,  62,  71,   1, 108, 128, 124, 100,  87,  59,\n       116,  87,  20,  82])"
      ]
     },
     "execution_count": 15,
     "metadata": {},
     "output_type": "execute_result"
    }
   ],
   "source": [
    "# 部分排序\n",
    "n4 = np.random.randint(0, 150, size=30)\n",
    "n4"
   ]
  },
  {
   "cell_type": "code",
   "execution_count": 17,
   "metadata": {
    "collapsed": true
   },
   "outputs": [
    {
     "data": {
      "text/plain": [
       "array([ 12,   1,   3,  20,  23,  25,  29,  33,  55,  50,  59,  62,  71,\n        71,  82,  62,  87,  91,  87,  88,  94, 100, 101, 124, 128, 108,\n       116, 132, 125, 118])"
      ]
     },
     "execution_count": 17,
     "metadata": {},
     "output_type": "execute_result"
    }
   ],
   "source": [
    "# 5表示将整个数组中的最小的5个数放在数组头部\n",
    "# -5表示将整个数组中的最大的5个数放在数组末尾\n",
    "np.partition(n4, 5)"
   ]
  },
  {
   "cell_type": "code",
   "execution_count": null,
   "metadata": {},
   "outputs": [],
   "source": [
    ""
   ]
  }
 ],
 "metadata": {
  "kernelspec": {
   "display_name": "Python 2",
   "language": "python",
   "name": "python2"
  },
  "language_info": {
   "codemirror_mode": {
    "name": "ipython",
    "version": 2.0
   },
   "file_extension": ".py",
   "mimetype": "text/x-python",
   "name": "python",
   "nbconvert_exporter": "python",
   "pygments_lexer": "ipython2",
   "version": "2.7.6"
  }
 },
 "nbformat": 4,
 "nbformat_minor": 0
}