{
 "cells": [
  {
   "cell_type": "code",
   "execution_count": 1,
   "metadata": {
    "collapsed": true
   },
   "outputs": [],
   "source": [
    "# coding:utf-8\n",
    "import numpy as np"
   ]
  },
  {
   "cell_type": "code",
   "execution_count": 3,
   "metadata": {
    "collapsed": true
   },
   "outputs": [
    {
     "data": {
      "text/plain": [
       "array([[6, 2, 2, 7, 9],\n       [0, 3, 5, 8, 5],\n       [1, 4, 3, 3, 7],\n       [1, 0, 2, 0, 7]])"
      ]
     },
     "execution_count": 3,
     "metadata": {},
     "output_type": "execute_result"
    }
   ],
   "source": [
    "n1 = np.random.randint(0, 10, size=(4, 5))\n",
    "n1"
   ]
  },
  {
   "cell_type": "code",
   "execution_count": 4,
   "metadata": {
    "collapsed": true
   },
   "outputs": [
    {
     "data": {
      "text/plain": [
       "array([[6, 2, 2, 7, 9],\n       [0, 3, 5, 8, 5],\n       [1, 4, 3, 3, 7],\n       [1, 0, 2, 0, 7],\n       [6, 2, 2, 7, 9],\n       [0, 3, 5, 8, 5],\n       [1, 4, 3, 3, 7],\n       [1, 0, 2, 0, 7]])"
      ]
     },
     "execution_count": 4,
     "metadata": {},
     "output_type": "execute_result"
    }
   ],
   "source": [
    "# 级联， 默认axis=0，从行上进行级联\n",
    "# 当axis=1时，则从列上进行级联\n",
    "np.concatenate((n1, n1))"
   ]
  },
  {
   "cell_type": "code",
   "execution_count": 6,
   "metadata": {
    "collapsed": true
   },
   "outputs": [
    {
     "data": {
      "text/plain": [
       "array([0, 2, 4, 6, 8])"
      ]
     },
     "execution_count": 6,
     "metadata": {},
     "output_type": "execute_result"
    }
   ],
   "source": [
    "n2 = np.arange(0, 10, 2)\n",
    "n2"
   ]
  },
  {
   "cell_type": "code",
   "execution_count": 7,
   "metadata": {
    "collapsed": true
   },
   "outputs": [
    {
     "data": {
      "text/plain": [
       "array([[0],\n       [2],\n       [4],\n       [6],\n       [8]])"
      ]
     },
     "execution_count": 7,
     "metadata": {},
     "output_type": "execute_result"
    }
   ],
   "source": [
    "# 将水平的数组转化成竖直的数组，相当于升一个维度\n",
    "n3 = np.vstack(n2)\n",
    "n3"
   ]
  },
  {
   "cell_type": "code",
   "execution_count": 8,
   "metadata": {
    "collapsed": true
   },
   "outputs": [
    {
     "data": {
      "text/plain": [
       "array([2, 3, 4, 5, 6])"
      ]
     },
     "execution_count": 8,
     "metadata": {},
     "output_type": "execute_result"
    }
   ],
   "source": [
    "# 将竖直数组转化成水平数组，相当于降一个维度\n",
    "n4 = np.array([[2, 3, 4, 5, 6]])\n",
    "np.hstack(n4)"
   ]
  },
  {
   "cell_type": "code",
   "execution_count": 10,
   "metadata": {
    "collapsed": true
   },
   "outputs": [
    {
     "data": {
      "text/plain": [
       "array([[ 31,  20,   0, 126,  86],\n       [112,  97, 102,  83, 130],\n       [ 20,  83,  95,  82,  52],\n       [ 92,  76, 136,  49,  68]])"
      ]
     },
     "execution_count": 10,
     "metadata": {},
     "output_type": "execute_result"
    }
   ],
   "source": [
    "# 切分\n",
    "n5 = np.random.randint(0, 150, size=(4, 5))\n",
    "n5"
   ]
  },
  {
   "cell_type": "code",
   "execution_count": 12,
   "metadata": {
    "collapsed": true
   },
   "outputs": [
    {
     "data": {
      "text/plain": [
       "[array([[ 31,  20,   0, 126,  86]]),\n array([[112,  97, 102,  83, 130]]),\n array([[ 20,  83,  95,  82,  52],\n        [ 92,  76, 136,  49,  68]])]"
      ]
     },
     "execution_count": 12,
     "metadata": {},
     "output_type": "execute_result"
    }
   ],
   "source": [
    "# 对数组进行切分，将0、1、2-3行分别切分成一个数组\n",
    "# 默认axis=0，从行进行切分，当axis=1时，则从列进行切分\n",
    "# 也可以使用vsplit和 hsplit，从行、列切分数组\n",
    "np.split(n5, (1, 2))"
   ]
  },
  {
   "cell_type": "code",
   "execution_count": 15,
   "metadata": {},
   "outputs": [],
   "source": [
    "from matplotlib import pyplot as plt\n",
    "image = plt.imread(r'E:\\python\\PythonSpace\\Git\\Python\\DataAnalysis\\Data\\Numpy\\14.jpg')\n",
    "image2 = np.split(image, (100, 900))[1]\n",
    "plt.imshow(image2)\n",
    "plt.show()"
   ]
  },
  {
   "cell_type": "code",
   "execution_count": null,
   "metadata": {},
   "outputs": [],
   "source": [
    ""
   ]
  }
 ],
 "metadata": {
  "kernelspec": {
   "display_name": "Python 2",
   "language": "python",
   "name": "python2"
  },
  "language_info": {
   "codemirror_mode": {
    "name": "ipython",
    "version": 2.0
   },
   "file_extension": ".py",
   "mimetype": "text/x-python",
   "name": "python",
   "nbconvert_exporter": "python",
   "pygments_lexer": "ipython2",
   "version": "2.7.6"
  }
 },
 "nbformat": 4,
 "nbformat_minor": 0
}