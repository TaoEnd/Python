{
 "cells": [
  {
   "cell_type": "code",
   "execution_count": 11,
   "metadata": {
    "collapsed": true
   },
   "outputs": [],
   "source": [
    "# coding:utf-8\n",
    "import numpy as np\n",
    "from matplotlib import pyplot as plt"
   ]
  },
  {
   "cell_type": "code",
   "execution_count": 2,
   "metadata": {
    "collapsed": true
   },
   "outputs": [
    {
     "data": {
      "text/plain": [
       "array([[1, 1, 1, 1, 1, 1, 1, 1],\n       [1, 1, 1, 1, 1, 1, 1, 1],\n       [1, 1, 1, 1, 1, 1, 1, 1],\n       [1, 1, 1, 1, 1, 1, 1, 1],\n       [1, 1, 1, 1, 1, 1, 1, 1],\n       [1, 1, 1, 1, 1, 1, 1, 1],\n       [1, 1, 1, 1, 1, 1, 1, 1],\n       [1, 1, 1, 1, 1, 1, 1, 1],\n       [1, 1, 1, 1, 1, 1, 1, 1],\n       [1, 1, 1, 1, 1, 1, 1, 1]])"
      ]
     },
     "execution_count": 2,
     "metadata": {},
     "output_type": "execute_result"
    }
   ],
   "source": [
    "# ones()函数\n",
    "np.ones(shape=(10, 8), dtype=int)"
   ]
  },
  {
   "cell_type": "code",
   "execution_count": 4,
   "metadata": {
    "collapsed": true
   },
   "outputs": [
    {
     "data": {
      "image/png": "[encoded data removed]",
      "text/plain": [
       "<matplotlib.figure.Figure at 0x278ad96ae10>"
      ]
     },
     "metadata": {},
     "output_type": "display_data"
    }
   ],
   "source": [
    "# 使用ones()自定义图片\n",
    "image = np.ones(shape=(100, 80, 3), dtype=float)\n",
    "plt.imshow(image)\n",
    "plt.show()"
   ]
  },
  {
   "cell_type": "code",
   "execution_count": 5,
   "metadata": {
    "collapsed": true
   },
   "outputs": [
    {
     "data": {
      "text/plain": [
       "array([[ 0.,  0.,  0.,  0.],\n       [ 0.,  0.,  0.,  0.],\n       [ 0.,  0.,  0.,  0.],\n       [ 0.,  0.,  0.,  0.]])"
      ]
     },
     "execution_count": 5,
     "metadata": {},
     "output_type": "execute_result"
    }
   ],
   "source": [
    "# zeros()函数\n",
    "np.zeros((4, 4))"
   ]
  },
  {
   "cell_type": "code",
   "execution_count": 6,
   "metadata": {
    "collapsed": true
   },
   "outputs": [
    {
     "data": {
      "text/plain": [
       "array([[10, 10, 10, 10],\n       [10, 10, 10, 10],\n       [10, 10, 10, 10],\n       [10, 10, 10, 10]])"
      ]
     },
     "execution_count": 6,
     "metadata": {},
     "output_type": "execute_result"
    }
   ],
   "source": [
    "# full()函数\n",
    "# 创建一个元素都相同的矩阵\n",
    "np.full((4, 4), fill_value=10)"
   ]
  },
  {
   "cell_type": "code",
   "execution_count": 9,
   "metadata": {
    "collapsed": true
   },
   "outputs": [
    {
     "name": "stdout",
     "output_type": "stream",
     "text": [
      "[[ 0.3  0.   0.   0.   0. ]\n [ 0.   0.3  0.   0.   0. ]\n [ 0.   0.   0.3  0.   0. ]\n [ 0.   0.   0.   0.3  0. ]\n [ 0.   0.   0.   0.   0.3]]\n"
     ]
    }
   ],
   "source": [
    "# eye()函数，创建一个单位矩阵\n",
    "matrix = 0.3 * np.eye(5)\n",
    "print(matrix)"
   ]
  },
  {
   "cell_type": "code",
   "execution_count": 13,
   "metadata": {
    "collapsed": true
   },
   "outputs": [
    {
     "data": {
      "text/plain": [
       "array([ 10.        ,  11.11111111,  12.22222222,  13.33333333,\n        14.44444444,  15.55555556,  16.66666667,  17.77777778,\n        18.88888889,  20.        ])"
      ]
     },
     "execution_count": 13,
     "metadata": {},
     "output_type": "execute_result"
    }
   ],
   "source": [
    "np.linspace(10, 20, 10)"
   ]
  },
  {
   "cell_type": "code",
   "execution_count": 14,
   "metadata": {
    "collapsed": true
   },
   "outputs": [
    {
     "data": {
      "text/plain": [
       "array([ 0,  2,  4,  6,  8, 10, 12, 14, 16, 18, 20, 22, 24, 26, 28, 30, 32,\n       34, 36, 38, 40, 42, 44, 46, 48, 50, 52, 54, 56, 58, 60, 62, 64, 66,\n       68, 70, 72, 74, 76, 78, 80, 82, 84, 86, 88, 90, 92, 94, 96, 98])"
      ]
     },
     "execution_count": 14,
     "metadata": {},
     "output_type": "execute_result"
    }
   ],
   "source": [
    "np.arange(0, 100, 2)"
   ]
  },
  {
   "cell_type": "code",
   "execution_count": 15,
   "metadata": {
    "collapsed": true
   },
   "outputs": [
    {
     "data": {
      "text/plain": [
       "array([ 0, 15, 19])"
      ]
     },
     "execution_count": 15,
     "metadata": {},
     "output_type": "execute_result"
    }
   ],
   "source": [
    "np.random.randint(0, 20, 3)"
   ]
  },
  {
   "cell_type": "code",
   "execution_count": 17,
   "metadata": {
    "collapsed": true
   },
   "outputs": [
    {
     "name": "stdout",
     "output_type": "stream",
     "text": [
      "(100,)\n"
     ]
    }
   ],
   "source": [
    "# 生成标准正态分布,100表示生成100个数字\n",
    "nums = np.random.randn(100)\n",
    "print(nums.shape)"
   ]
  },
  {
   "cell_type": "code",
   "execution_count": 18,
   "metadata": {
    "collapsed": true
   },
   "outputs": [
    {
     "data": {
      "text/plain": [
       "array([ 11.05369393,  10.55648615,   9.0762931 ,  11.48236918,\n         9.51275577,   8.93421487,   9.35611421,  10.19018766,\n        10.3805912 ,  11.43037268,  10.72066536,  10.21013437,\n         9.68023755,  10.92703375,  10.19731465,  10.96030824,\n         8.56008945,  10.16708013,   9.68149562,  10.59989031])"
      ]
     },
     "execution_count": 18,
     "metadata": {},
     "output_type": "execute_result"
    }
   ],
   "source": [
    "# 自定义正态分布，期望是10， 方差是1，生成20个数\n",
    "np.random.normal(loc=10, scale=1, size=20)"
   ]
  },
  {
   "cell_type": "code",
   "execution_count": 19,
   "metadata": {
    "collapsed": true
   },
   "outputs": [
    {
     "data": {
      "text/plain": [
       "array([ 0.18437941,  0.30698258,  0.64241711,  0.73021556,  0.16934946,\n        0.33150899,  0.89895304,  0.20025866,  0.63892075,  0.47070427,\n        0.59379367,  0.0272565 ,  0.78652192,  0.49201526,  0.65873591,\n        0.73365126,  0.78310219,  0.36567911,  0.81130805,  0.26239797,\n        0.93350601,  0.80255751,  0.39860248,  0.80711885,  0.25483911,\n        0.99170388,  0.34941659,  0.90073911,  0.24366286,  0.73155636,\n        0.51760902,  0.92897694,  0.57998013,  0.96403426,  0.45128525,\n        0.48738007,  0.95879674,  0.32384455,  0.77775023,  0.93995642,\n        0.68908953,  0.04342127,  0.66427047,  0.67325949,  0.98715646,\n        0.34669651,  0.47917032,  0.11219843,  0.94258382,  0.02183789,\n        0.65841726,  0.86712695,  0.49453511,  0.31806336,  0.94827136,\n        0.67487672,  0.96183963,  0.54642766,  0.19965678,  0.54588794,\n        0.5577608 ,  0.72273662,  0.98461751,  0.35487989,  0.23453847,\n        0.074269  ,  0.27439842,  0.53248526,  0.67214497,  0.94181868,\n        0.11532717,  0.66741463,  0.20189545,  0.82486729,  0.74764447,\n        0.25929527,  0.37347215,  0.55667011,  0.22708201,  0.67642143,\n        0.87559399,  0.04414083,  0.77732415,  0.97450215,  0.64490913,\n        0.67335408,  0.52950162,  0.51034485,  0.20216191,  0.73139133,\n        0.99580021,  0.78505047,  0.95917278,  0.66350255,  0.36884692,\n        0.79698954,  0.43495004,  0.19458256,  0.43707969,  0.56080733])"
      ]
     },
     "execution_count": 19,
     "metadata": {},
     "output_type": "execute_result"
    }
   ],
   "source": [
    "# 生成0-1的随机数\n",
    "np.random.random(size=100)"
   ]
  },
  {
   "cell_type": "code",
   "execution_count": 21,
   "metadata": {
    "collapsed": true
   },
   "outputs": [
    {
     "data": {
      "text/plain": [
       "array([[ 0.78351351,  0.11305109,  0.71374957,  0.45504373,  0.29632375,\n         0.06576697,  0.86444942,  0.60501323,  0.06264245,  0.13773015],\n       [ 0.02413872,  0.73815532,  0.33962578,  0.37346491,  0.71816909,\n         0.54114052,  0.61715797,  0.63533897,  0.49122018,  0.34611961],\n       [ 0.57400486,  0.95409476,  0.01817662,  0.6337946 ,  0.84271265,\n         0.64368809,  0.47773363,  0.92157632,  0.165773  ,  0.38603024],\n       [ 0.39567565,  0.10767338,  0.31430361,  0.01659232,  0.52964766,\n         0.07948011,  0.83099535,  0.35357886,  0.70315999,  0.01511809],\n       [ 0.0950715 ,  0.39813748,  0.32071304,  0.50302167,  0.48134676,\n         0.18465876,  0.8580166 ,  0.95189386,  0.44508013,  0.48896022],\n       [ 0.30269149,  0.9215321 ,  0.76539485,  0.45658458,  0.95922456,\n         0.65324099,  0.9561475 ,  0.67945284,  0.23727211,  0.01965288],\n       [ 0.99108619,  0.66584073,  0.9565408 ,  0.85877814,  0.73355994,\n         0.55162253,  0.33799668,  0.51237766,  0.21379426,  0.30320113],\n       [ 0.31039674,  0.49076912,  0.98859263,  0.3534815 ,  0.57546222,\n         0.80172716,  0.37788589,  0.20726307,  0.6302277 ,  0.75916072],\n       [ 0.70968725,  0.85709465,  0.47602647,  0.95531546,  0.87967025,\n         0.89340674,  0.06291296,  0.01121952,  0.1075812 ,  0.51175272],\n       [ 0.13046952,  0.87708763,  0.146393  ,  0.00249978,  0.98847354,\n         0.27482701,  0.27781324,  0.9430735 ,  0.43399185,  0.05227162]])"
      ]
     },
     "execution_count": 21,
     "metadata": {},
     "output_type": "execute_result"
    }
   ],
   "source": [
    "np.random.random(size=(10, 10))"
   ]
  },
  {
   "cell_type": "code",
   "execution_count": null,
   "metadata": {},
   "outputs": [],
   "source": [
    ""
   ]
  }
 ],
 "metadata": {
  "kernelspec": {
   "display_name": "Python 2",
   "language": "python",
   "name": "python2"
  },
  "language_info": {
   "codemirror_mode": {
    "name": "ipython",
    "version": 2.0
   },
   "file_extension": ".py",
   "mimetype": "text/x-python",
   "name": "python",
   "nbconvert_exporter": "python",
   "pygments_lexer": "ipython2",
   "version": "2.7.6"
  }
 },
 "nbformat": 4,
 "nbformat_minor": 0
}