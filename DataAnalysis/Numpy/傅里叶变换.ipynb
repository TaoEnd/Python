{
 "cells": [
  {
   "cell_type": "code",
   "execution_count": 21,
   "metadata": {
    "collapsed": true
   },
   "outputs": [],
   "source": [
    "# coding:utf-8\n",
    "import numpy as np\n",
    "# fft是傅里叶转换，ifft是傅里叶反转\n",
    "from numpy.fft import fft, ifft\n",
    "from PIL import Image"
   ]
  },
  {
   "cell_type": "code",
   "execution_count": 30,
   "metadata": {},
   "outputs": [],
   "source": [
    "# 根据物体边界的变化程度来提取物体轮廓，使用傅里叶变换\n",
    "path = r'E:\\python\\PythonSpace\\Git\\Python\\DataAnalysis\\Data\\dog.jpg'\n",
    "dog = Image.open(path)\n",
    "dog.show()"
   ]
  },
  {
   "cell_type": "code",
   "execution_count": 22,
   "metadata": {
    "collapsed": true
   },
   "outputs": [
    {
     "data": {
      "text/plain": [
       "array([-113, -116, -121, ...,  124,  123,  118], dtype=int8)"
      ]
     },
     "execution_count": 22,
     "metadata": {},
     "output_type": "execute_result"
    }
   ],
   "source": [
    "# 将dog转化成int类型的数据，超出当前数据范围的数字就变成负数\n",
    "dog_data = np.fromstring(dog.tobytes(), dtype=np.int8)\n",
    "dog_data"
   ]
  },
  {
   "cell_type": "code",
   "execution_count": 23,
   "metadata": {
    "collapsed": true
   },
   "outputs": [
    {
     "data": {
      "text/plain": [
       "array([ 23856095.00000000       +0.j        ,\n        -3624006.87370139+11148439.03089775j,\n        -4196914.91332539+13008279.04788709j, ...,\n         3678377.62589230  -985606.13142507j,\n        -4196914.91332550-13008279.04788707j,\n        -3624006.87370148-11148439.03089774j])"
      ]
     },
     "execution_count": 23,
     "metadata": {},
     "output_type": "execute_result"
    }
   ],
   "source": [
    "# 傅里叶转换，转换结果是虚数\n",
    "dog_fft = fft(dog_data)\n",
    "# 将真实数据转化成频域\n",
    "dog_fft"
   ]
  },
  {
   "cell_type": "code",
   "execution_count": 31,
   "metadata": {},
   "outputs": [
    {
     "data": {
      "text/plain": [
       "array([ 23856095.00000000       +0.j        ,\n        -3624006.87370139+11148439.03089775j,\n        -4196914.91332539+13008279.04788709j, ...,\n               0.00000000       +0.j        ,\n        -4196914.91332550-13008279.04788707j,\n        -3624006.87370148-11148439.03089774j])"
      ]
     },
     "execution_count": 31,
     "metadata": {},
     "output_type": "execute_result"
    }
   ],
   "source": [
    "# 滤波，将傅里叶变换结果中低频(<10万)数据设置成0\n",
    "# dog_fft[np.where(np.abs(dog_fft)<1e5)] = 0\n",
    "np.where(np.abs(dog_fft)<1e7, 0, dog_fft)"
   ]
  },
  {
   "cell_type": "code",
   "execution_count": 32,
   "metadata": {},
   "outputs": [
    {
     "data": {
      "text/plain": [
       "array([-113. +2.85242923e-12j, -116. +1.75796739e-13j,\n       -121. +3.32959044e-13j, ...,  124. -7.62530299e-13j,\n        123. -9.42104019e-13j,  118. -1.07803076e-12j])"
      ]
     },
     "execution_count": 32,
     "metadata": {},
     "output_type": "execute_result"
    }
   ],
   "source": [
    "# 数据反转\n",
    "dog_ifft = ifft(dog_fft)\n",
    "dog_ifft"
   ]
  },
  {
   "cell_type": "code",
   "execution_count": 26,
   "metadata": {},
   "outputs": [
    {
     "data": {
      "text/plain": [
       "array([-113., -116., -121., ...,  124.,  123.,  118.])"
      ]
     },
     "execution_count": 26,
     "metadata": {},
     "output_type": "execute_result"
    }
   ],
   "source": [
    "# 只要实数部分\n",
    "dog_real = np.real(dog_ifft)\n",
    "dog_real"
   ]
  },
  {
   "cell_type": "code",
   "execution_count": 33,
   "metadata": {},
   "outputs": [
    {
     "data": {
      "text/plain": [
       "array([-112, -115, -120, ...,  123,  123,  118], dtype=int8)"
      ]
     },
     "execution_count": 33,
     "metadata": {},
     "output_type": "execute_result"
    }
   ],
   "source": [
    "# 去除小数部分\n",
    "dog_result = np.int8(dog_real)\n",
    "dog_result"
   ]
  },
  {
   "cell_type": "code",
   "execution_count": 34,
   "metadata": {},
   "outputs": [],
   "source": [
    "# 将数组转成图片\n",
    "dog_Image = Image.frombytes(size=dog.size, mode=dog.mode, data=dog_result)\n",
    "dog_Image.show()"
   ]
  },
  {
   "cell_type": "code",
   "execution_count": null,
   "metadata": {},
   "outputs": [],
   "source": [
    ""
   ]
  }
 ],
 "metadata": {
  "kernelspec": {
   "display_name": "Python 2",
   "language": "python",
   "name": "python2"
  },
  "language_info": {
   "codemirror_mode": {
    "name": "ipython",
    "version": 2.0
   },
   "file_extension": ".py",
   "mimetype": "text/x-python",
   "name": "python",
   "nbconvert_exporter": "python",
   "pygments_lexer": "ipython2",
   "version": "2.7.6"
  }
 },
 "nbformat": 4,
 "nbformat_minor": 0
}