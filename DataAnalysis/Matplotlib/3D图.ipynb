{
 "cells": [
  {
   "cell_type": "code",
   "execution_count": 1,
   "metadata": {
    "collapsed": true
   },
   "outputs": [],
   "source": [
    "# coding:utf-8\n",
    "import numpy as np\n",
    "from matplotlib import pyplot as plt\n",
    "from mpl_toolkits.mplot3d import Axes3D"
   ]
  },
  {
   "cell_type": "code",
   "execution_count": 14,
   "metadata": {},
   "outputs": [],
   "source": [
    "x = np.linspace(0, 8, 100)\n",
    "y = np.linspace(0, 8, 100)\n",
    "Z = 8*np.random.random(100)\n",
    "# 将线转化成面\n",
    "X, Y = np.meshgrid(x, y)\n",
    "plt.figure(figsize=(9, 5))\n",
    "axes = plt.subplot(111, projection=\"3d\")\n",
    "# 使用cmap设置图形颜色\n",
    "s = axes.plot_surface(X, Y, Z, cmap=\"rainbow\")\n",
    "# 设置colorbar，shrink是设置比例\n",
    "plt.colorbar(s, shrink=0.5)\n",
    "plt.show()"
   ]
  },
  {
   "cell_type": "code",
   "execution_count": null,
   "metadata": {},
   "outputs": [],
   "source": [
    ""
   ]
  }
 ],
 "metadata": {
  "kernelspec": {
   "display_name": "Python 2",
   "language": "python",
   "name": "python2"
  },
  "language_info": {
   "codemirror_mode": {
    "name": "ipython",
    "version": 2.0
   },
   "file_extension": ".py",
   "mimetype": "text/x-python",
   "name": "python",
   "nbconvert_exporter": "python",
   "pygments_lexer": "ipython2",
   "version": "2.7.6"
  }
 },
 "nbformat": 4,
 "nbformat_minor": 0
}